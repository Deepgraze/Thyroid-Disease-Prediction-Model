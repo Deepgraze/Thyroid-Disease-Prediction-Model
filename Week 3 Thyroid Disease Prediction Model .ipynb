{
 "cells": [
  {
   "cell_type": "markdown",
   "id": "748c0f72",
   "metadata": {},
   "source": [
    "## MACHINE LEARNING INTERNSHIP\n",
    "8BitWorriors\n",
    "## WEEK 3 TASK\n",
    "## Disease Prediction Model\n",
    "## Data set - \"Hypothyorid\"\n",
    "## Created by - Shivansh Hingve"
   ]
  },
  {
   "cell_type": "markdown",
   "id": "5b1e698e",
   "metadata": {},
   "source": [
    "## Imports"
   ]
  },
  {
   "cell_type": "code",
   "execution_count": 35,
   "id": "24f1e20b",
   "metadata": {},
   "outputs": [],
   "source": [
    "import sklearn\n",
    "import pandas as pd\n",
    "import numpy as np\n",
    "import seaborn as sns\n",
    "import matplotlib.pyplot as plt\n",
    "from sklearn.preprocessing import LabelEncoder\n",
    "from sklearn.model_selection import train_test_split\n",
    "from sklearn.preprocessing import MinMaxScaler\n",
    "from imblearn.over_sampling import SMOTE\n",
    "from sklearn.metrics import classification_report,f1_score\n",
    "from sklearn.ensemble import RandomForestClassifier\n",
    "import warnings\n",
    "warnings.filterwarnings('ignore')"
   ]
  },
  {
   "cell_type": "markdown",
   "id": "8dd872e9",
   "metadata": {},
   "source": [
    "## Read data from csv"
   ]
  },
  {
   "cell_type": "code",
   "execution_count": 37,
   "id": "0f2881fc",
   "metadata": {},
   "outputs": [
    {
     "data": {
      "text/html": [
       "<div>\n",
       "<style scoped>\n",
       "    .dataframe tbody tr th:only-of-type {\n",
       "        vertical-align: middle;\n",
       "    }\n",
       "\n",
       "    .dataframe tbody tr th {\n",
       "        vertical-align: top;\n",
       "    }\n",
       "\n",
       "    .dataframe thead th {\n",
       "        text-align: right;\n",
       "    }\n",
       "</style>\n",
       "<table border=\"1\" class=\"dataframe\">\n",
       "  <thead>\n",
       "    <tr style=\"text-align: right;\">\n",
       "      <th></th>\n",
       "      <th>age</th>\n",
       "      <th>sex</th>\n",
       "      <th>on thyroxine</th>\n",
       "      <th>query on thyroxine</th>\n",
       "      <th>on antithyroid medication</th>\n",
       "      <th>sick</th>\n",
       "      <th>pregnant</th>\n",
       "      <th>thyroid surgery</th>\n",
       "      <th>I131 treatment</th>\n",
       "      <th>query hypothyroid</th>\n",
       "      <th>...</th>\n",
       "      <th>TT4 measured</th>\n",
       "      <th>TT4</th>\n",
       "      <th>T4U measured</th>\n",
       "      <th>T4U</th>\n",
       "      <th>FTI measured</th>\n",
       "      <th>FTI</th>\n",
       "      <th>TBG measured</th>\n",
       "      <th>TBG</th>\n",
       "      <th>referral source</th>\n",
       "      <th>binaryClass</th>\n",
       "    </tr>\n",
       "  </thead>\n",
       "  <tbody>\n",
       "    <tr>\n",
       "      <th>0</th>\n",
       "      <td>41</td>\n",
       "      <td>F</td>\n",
       "      <td>f</td>\n",
       "      <td>f</td>\n",
       "      <td>f</td>\n",
       "      <td>f</td>\n",
       "      <td>f</td>\n",
       "      <td>f</td>\n",
       "      <td>f</td>\n",
       "      <td>f</td>\n",
       "      <td>...</td>\n",
       "      <td>t</td>\n",
       "      <td>125</td>\n",
       "      <td>t</td>\n",
       "      <td>1.14</td>\n",
       "      <td>t</td>\n",
       "      <td>109</td>\n",
       "      <td>f</td>\n",
       "      <td>?</td>\n",
       "      <td>SVHC</td>\n",
       "      <td>P</td>\n",
       "    </tr>\n",
       "    <tr>\n",
       "      <th>1</th>\n",
       "      <td>23</td>\n",
       "      <td>F</td>\n",
       "      <td>f</td>\n",
       "      <td>f</td>\n",
       "      <td>f</td>\n",
       "      <td>f</td>\n",
       "      <td>f</td>\n",
       "      <td>f</td>\n",
       "      <td>f</td>\n",
       "      <td>f</td>\n",
       "      <td>...</td>\n",
       "      <td>t</td>\n",
       "      <td>102</td>\n",
       "      <td>f</td>\n",
       "      <td>?</td>\n",
       "      <td>f</td>\n",
       "      <td>?</td>\n",
       "      <td>f</td>\n",
       "      <td>?</td>\n",
       "      <td>other</td>\n",
       "      <td>P</td>\n",
       "    </tr>\n",
       "    <tr>\n",
       "      <th>2</th>\n",
       "      <td>46</td>\n",
       "      <td>M</td>\n",
       "      <td>f</td>\n",
       "      <td>f</td>\n",
       "      <td>f</td>\n",
       "      <td>f</td>\n",
       "      <td>f</td>\n",
       "      <td>f</td>\n",
       "      <td>f</td>\n",
       "      <td>f</td>\n",
       "      <td>...</td>\n",
       "      <td>t</td>\n",
       "      <td>109</td>\n",
       "      <td>t</td>\n",
       "      <td>0.91</td>\n",
       "      <td>t</td>\n",
       "      <td>120</td>\n",
       "      <td>f</td>\n",
       "      <td>?</td>\n",
       "      <td>other</td>\n",
       "      <td>P</td>\n",
       "    </tr>\n",
       "    <tr>\n",
       "      <th>3</th>\n",
       "      <td>70</td>\n",
       "      <td>F</td>\n",
       "      <td>t</td>\n",
       "      <td>f</td>\n",
       "      <td>f</td>\n",
       "      <td>f</td>\n",
       "      <td>f</td>\n",
       "      <td>f</td>\n",
       "      <td>f</td>\n",
       "      <td>f</td>\n",
       "      <td>...</td>\n",
       "      <td>t</td>\n",
       "      <td>175</td>\n",
       "      <td>f</td>\n",
       "      <td>?</td>\n",
       "      <td>f</td>\n",
       "      <td>?</td>\n",
       "      <td>f</td>\n",
       "      <td>?</td>\n",
       "      <td>other</td>\n",
       "      <td>P</td>\n",
       "    </tr>\n",
       "    <tr>\n",
       "      <th>4</th>\n",
       "      <td>70</td>\n",
       "      <td>F</td>\n",
       "      <td>f</td>\n",
       "      <td>f</td>\n",
       "      <td>f</td>\n",
       "      <td>f</td>\n",
       "      <td>f</td>\n",
       "      <td>f</td>\n",
       "      <td>f</td>\n",
       "      <td>f</td>\n",
       "      <td>...</td>\n",
       "      <td>t</td>\n",
       "      <td>61</td>\n",
       "      <td>t</td>\n",
       "      <td>0.87</td>\n",
       "      <td>t</td>\n",
       "      <td>70</td>\n",
       "      <td>f</td>\n",
       "      <td>?</td>\n",
       "      <td>SVI</td>\n",
       "      <td>P</td>\n",
       "    </tr>\n",
       "  </tbody>\n",
       "</table>\n",
       "<p>5 rows × 30 columns</p>\n",
       "</div>"
      ],
      "text/plain": [
       "  age sex on thyroxine query on thyroxine on antithyroid medication sick  \\\n",
       "0  41   F            f                  f                         f    f   \n",
       "1  23   F            f                  f                         f    f   \n",
       "2  46   M            f                  f                         f    f   \n",
       "3  70   F            t                  f                         f    f   \n",
       "4  70   F            f                  f                         f    f   \n",
       "\n",
       "  pregnant thyroid surgery I131 treatment query hypothyroid  ... TT4 measured  \\\n",
       "0        f               f              f                 f  ...            t   \n",
       "1        f               f              f                 f  ...            t   \n",
       "2        f               f              f                 f  ...            t   \n",
       "3        f               f              f                 f  ...            t   \n",
       "4        f               f              f                 f  ...            t   \n",
       "\n",
       "   TT4 T4U measured   T4U FTI measured  FTI TBG measured TBG referral source  \\\n",
       "0  125            t  1.14            t  109            f   ?            SVHC   \n",
       "1  102            f     ?            f    ?            f   ?           other   \n",
       "2  109            t  0.91            t  120            f   ?           other   \n",
       "3  175            f     ?            f    ?            f   ?           other   \n",
       "4   61            t  0.87            t   70            f   ?             SVI   \n",
       "\n",
       "  binaryClass  \n",
       "0           P  \n",
       "1           P  \n",
       "2           P  \n",
       "3           P  \n",
       "4           P  \n",
       "\n",
       "[5 rows x 30 columns]"
      ]
     },
     "execution_count": 37,
     "metadata": {},
     "output_type": "execute_result"
    }
   ],
   "source": [
    "df = pd.read_csv(\"hypothyroid.csv\")\n",
    "df.head()"
   ]
  },
  {
   "cell_type": "code",
   "execution_count": 38,
   "id": "de604bc0",
   "metadata": {},
   "outputs": [
    {
     "name": "stdout",
     "output_type": "stream",
     "text": [
      "<class 'pandas.core.frame.DataFrame'>\n",
      "RangeIndex: 3772 entries, 0 to 3771\n",
      "Data columns (total 30 columns):\n",
      " #   Column                     Non-Null Count  Dtype \n",
      "---  ------                     --------------  ----- \n",
      " 0   age                        3772 non-null   object\n",
      " 1   sex                        3772 non-null   object\n",
      " 2   on thyroxine               3772 non-null   object\n",
      " 3   query on thyroxine         3772 non-null   object\n",
      " 4   on antithyroid medication  3772 non-null   object\n",
      " 5   sick                       3772 non-null   object\n",
      " 6   pregnant                   3772 non-null   object\n",
      " 7   thyroid surgery            3772 non-null   object\n",
      " 8   I131 treatment             3772 non-null   object\n",
      " 9   query hypothyroid          3772 non-null   object\n",
      " 10  query hyperthyroid         3772 non-null   object\n",
      " 11  lithium                    3772 non-null   object\n",
      " 12  goitre                     3772 non-null   object\n",
      " 13  tumor                      3772 non-null   object\n",
      " 14  hypopituitary              3772 non-null   object\n",
      " 15  psych                      3772 non-null   object\n",
      " 16  TSH measured               3772 non-null   object\n",
      " 17  TSH                        3772 non-null   object\n",
      " 18  T3 measured                3772 non-null   object\n",
      " 19  T3                         3772 non-null   object\n",
      " 20  TT4 measured               3772 non-null   object\n",
      " 21  TT4                        3772 non-null   object\n",
      " 22  T4U measured               3772 non-null   object\n",
      " 23  T4U                        3772 non-null   object\n",
      " 24  FTI measured               3772 non-null   object\n",
      " 25  FTI                        3772 non-null   object\n",
      " 26  TBG measured               3772 non-null   object\n",
      " 27  TBG                        3772 non-null   object\n",
      " 28  referral source            3772 non-null   object\n",
      " 29  binaryClass                3772 non-null   object\n",
      "dtypes: object(30)\n",
      "memory usage: 884.2+ KB\n"
     ]
    }
   ],
   "source": [
    "df.info()"
   ]
  },
  {
   "cell_type": "markdown",
   "id": "c24cbc23",
   "metadata": {},
   "source": [
    "The CSV file in question appears to be inundated with an excessive number of redundant and extraneous columns, rendering it unnecessarily complex and challenging to navigate. These surplus columns not only clutter the dataset but also introduce confusion and inefficiency during data analysis. The presence of superfluous information hampers the file's usability, making it arduous for users to discern relevant data from the overwhelming noise of unnecessary columns. A streamlined and focused dataset, devoid of these extraneous columns, would significantly enhance the file's functionality and improve the overall data processing experience, facilitating more efficient and meaningful analyses."
   ]
  },
  {
   "cell_type": "markdown",
   "id": "b4186dfd",
   "metadata": {},
   "source": [
    "## Data Cleaning"
   ]
  },
  {
   "cell_type": "code",
   "execution_count": 39,
   "id": "135a1970",
   "metadata": {},
   "outputs": [],
   "source": [
    "df.rename(columns={'binaryClass':'Label'},inplace=True)"
   ]
  },
  {
   "cell_type": "code",
   "execution_count": 40,
   "id": "d5a0e805",
   "metadata": {},
   "outputs": [],
   "source": [
    "df.drop(['T3 measured','TSH measured','TT4 measured','T4U measured','FTI measured','TBG measured','TBG','referral source','on thyroxine','query on thyroxine','on antithyroid medication','query hypothyroid', 'query hyperthyroid','hypopituitary', 'psych'],axis=1,inplace=True)"
   ]
  },
  {
   "cell_type": "code",
   "execution_count": 41,
   "id": "3855d87e",
   "metadata": {},
   "outputs": [],
   "source": [
    "df.replace('?',np.nan,inplace=True)"
   ]
  },
  {
   "cell_type": "code",
   "execution_count": 42,
   "id": "21c9cbed",
   "metadata": {},
   "outputs": [
    {
     "data": {
      "text/plain": [
       "f    3719\n",
       "t      53\n",
       "Name: thyroid surgery, dtype: int64"
      ]
     },
     "execution_count": 42,
     "metadata": {},
     "output_type": "execute_result"
    }
   ],
   "source": [
    "df['thyroid surgery'].value_counts()"
   ]
  },
  {
   "cell_type": "code",
   "execution_count": 43,
   "id": "6e168052",
   "metadata": {},
   "outputs": [
    {
     "name": "stdout",
     "output_type": "stream",
     "text": [
      "0       41.0\n",
      "1       23.0\n",
      "2       46.0\n",
      "3       70.0\n",
      "4       70.0\n",
      "        ... \n",
      "3767    30.0\n",
      "3768    68.0\n",
      "3769    74.0\n",
      "3770    72.0\n",
      "3771    64.0\n",
      "Name: age, Length: 3772, dtype: float64\n",
      "0       109.0\n",
      "1         NaN\n",
      "2       120.0\n",
      "3         NaN\n",
      "4        70.0\n",
      "        ...  \n",
      "3767      NaN\n",
      "3768    114.0\n",
      "3769    105.0\n",
      "3770     87.0\n",
      "3771     92.0\n",
      "Name: FTI, Length: 3772, dtype: float64\n",
      "0       1.30\n",
      "1       4.10\n",
      "2       0.98\n",
      "3       0.16\n",
      "4       0.72\n",
      "        ... \n",
      "3767     NaN\n",
      "3768    1.00\n",
      "3769    5.10\n",
      "3770    0.70\n",
      "3771    1.00\n",
      "Name: TSH, Length: 3772, dtype: float64\n",
      "0       2.5\n",
      "1       2.0\n",
      "2       NaN\n",
      "3       1.9\n",
      "4       1.2\n",
      "       ... \n",
      "3767    NaN\n",
      "3768    2.1\n",
      "3769    1.8\n",
      "3770    2.0\n",
      "3771    2.2\n",
      "Name: T3, Length: 3772, dtype: float64\n",
      "0       125.0\n",
      "1       102.0\n",
      "2       109.0\n",
      "3       175.0\n",
      "4        61.0\n",
      "        ...  \n",
      "3767      NaN\n",
      "3768    124.0\n",
      "3769    112.0\n",
      "3770     82.0\n",
      "3771     99.0\n",
      "Name: TT4, Length: 3772, dtype: float64\n",
      "0       1.14\n",
      "1        NaN\n",
      "2       0.91\n",
      "3        NaN\n",
      "4       0.87\n",
      "        ... \n",
      "3767     NaN\n",
      "3768    1.08\n",
      "3769    1.07\n",
      "3770    0.94\n",
      "3771    1.07\n",
      "Name: T4U, Length: 3772, dtype: float64\n"
     ]
    }
   ],
   "source": [
    "cols = ['age','FTI','TSH','T3','TT4','T4U']\n",
    "for i in cols:\n",
    "    df[i] = pd.to_numeric(df[i])\n",
    "    print(df[i])"
   ]
  },
  {
   "cell_type": "code",
   "execution_count": 44,
   "id": "c2c4f2c1",
   "metadata": {
    "scrolled": false
   },
   "outputs": [
    {
     "name": "stdout",
     "output_type": "stream",
     "text": [
      "<class 'pandas.core.frame.DataFrame'>\n",
      "RangeIndex: 3772 entries, 0 to 3771\n",
      "Data columns (total 15 columns):\n",
      " #   Column           Non-Null Count  Dtype  \n",
      "---  ------           --------------  -----  \n",
      " 0   age              3771 non-null   float64\n",
      " 1   sex              3622 non-null   object \n",
      " 2   sick             3772 non-null   object \n",
      " 3   pregnant         3772 non-null   object \n",
      " 4   thyroid surgery  3772 non-null   object \n",
      " 5   I131 treatment   3772 non-null   object \n",
      " 6   lithium          3772 non-null   object \n",
      " 7   goitre           3772 non-null   object \n",
      " 8   tumor            3772 non-null   object \n",
      " 9   TSH              3403 non-null   float64\n",
      " 10  T3               3003 non-null   float64\n",
      " 11  TT4              3541 non-null   float64\n",
      " 12  T4U              3385 non-null   float64\n",
      " 13  FTI              3387 non-null   float64\n",
      " 14  Label            3772 non-null   object \n",
      "dtypes: float64(6), object(9)\n",
      "memory usage: 442.2+ KB\n"
     ]
    }
   ],
   "source": [
    "df.info()"
   ]
  },
  {
   "cell_type": "markdown",
   "id": "43380e67",
   "metadata": {},
   "source": [
    "## Handling Missing Values"
   ]
  },
  {
   "cell_type": "code",
   "execution_count": 45,
   "id": "83dd7abc",
   "metadata": {},
   "outputs": [
    {
     "data": {
      "text/plain": [
       "age                  1\n",
       "sex                150\n",
       "sick                 0\n",
       "pregnant             0\n",
       "thyroid surgery      0\n",
       "I131 treatment       0\n",
       "lithium              0\n",
       "goitre               0\n",
       "tumor                0\n",
       "TSH                369\n",
       "T3                 769\n",
       "TT4                231\n",
       "T4U                387\n",
       "FTI                385\n",
       "Label                0\n",
       "dtype: int64"
      ]
     },
     "execution_count": 45,
     "metadata": {},
     "output_type": "execute_result"
    }
   ],
   "source": [
    "#Using sum function to get a count of all null values\n",
    "df.isnull().sum()"
   ]
  },
  {
   "cell_type": "markdown",
   "id": "6620baef",
   "metadata": {},
   "source": [
    "However, it's essential to note that filling missing values with the mean assumes that the missing values are missing completely at random (MCAR) or missing at random (MAR). If missingness is related to the data itself (missing not at random), imputing with the mean might introduce bias. In such cases, more sophisticated imputation methods or domain-specific knowledge may be necessary."
   ]
  },
  {
   "cell_type": "code",
   "execution_count": 46,
   "id": "0b9eff98",
   "metadata": {},
   "outputs": [],
   "source": [
    "miss_cols = ['FTI','TSH','T3','TT4','T4U']\n",
    "for x in miss_cols:\n",
    "    df[x] = df[i].fillna(df[x].mean())\n",
    "# Now Dropping all NA values\n",
    "df.dropna(inplace=True)"
   ]
  },
  {
   "cell_type": "code",
   "execution_count": 47,
   "id": "3faa1ed6",
   "metadata": {},
   "outputs": [
    {
     "data": {
      "text/plain": [
       "age                0\n",
       "sex                0\n",
       "sick               0\n",
       "pregnant           0\n",
       "thyroid surgery    0\n",
       "I131 treatment     0\n",
       "lithium            0\n",
       "goitre             0\n",
       "tumor              0\n",
       "TSH                0\n",
       "T3                 0\n",
       "TT4                0\n",
       "T4U                0\n",
       "FTI                0\n",
       "Label              0\n",
       "dtype: int64"
      ]
     },
     "execution_count": 47,
     "metadata": {},
     "output_type": "execute_result"
    }
   ],
   "source": [
    "# Now checking the null values\n",
    "df.isnull().sum()"
   ]
  },
  {
   "cell_type": "code",
   "execution_count": 48,
   "id": "f4b38ed5",
   "metadata": {},
   "outputs": [],
   "source": [
    "df.T4U = df.T4U.astype(int)\n",
    "df.TT4 = df.TT4.astype(int)\n",
    "df.FTI = df.FTI.astype(int)\n",
    "df.age = df.age.astype(int)"
   ]
  },
  {
   "cell_type": "markdown",
   "id": "f029d4e0",
   "metadata": {},
   "source": [
    "# Exploratory Data Analysis"
   ]
  },
  {
   "cell_type": "code",
   "execution_count": 49,
   "id": "c28f4647",
   "metadata": {},
   "outputs": [
    {
     "data": {
      "image/png": "[encoded data removed]",
      "text/plain": [
       "<Figure size 640x480 with 1 Axes>"
      ]
     },
     "metadata": {},
     "output_type": "display_data"
    }
   ],
   "source": [
    "sns.countplot(x = 'Label',data = df)\n",
    "plt.title(\"Countplot for Target variable\");"
   ]
  },
  {
   "cell_type": "code",
   "execution_count": 50,
   "id": "fea09815",
   "metadata": {},
   "outputs": [],
   "source": [
    "# Naming all Positive patients\n",
    "pos_df = df[df.Label == 'P']"
   ]
  },
  {
   "cell_type": "code",
   "execution_count": 51,
   "id": "2e342dec",
   "metadata": {},
   "outputs": [
    {
     "name": "stdout",
     "output_type": "stream",
     "text": [
      "0       41\n",
      "1       23\n",
      "2       46\n",
      "3       70\n",
      "4       70\n",
      "        ..\n",
      "3767    30\n",
      "3768    68\n",
      "3769    74\n",
      "3770    72\n",
      "3771    64\n",
      "Name: age, Length: 3621, dtype: int32\n"
     ]
    }
   ],
   "source": [
    "print(df.age)"
   ]
  },
  {
   "cell_type": "code",
   "execution_count": 52,
   "id": "1d3d526d",
   "metadata": {},
   "outputs": [
    {
     "data": {
      "image/png": "[encoded data removed]",
      "text/plain": [
       "<Figure size 900x600 with 1 Axes>"
      ]
     },
     "metadata": {},
     "output_type": "display_data"
    }
   ],
   "source": [
    "# Plotting them according to their age.\n",
    "plt.figure(figsize=(9,6))\n",
    "sns.histplot(x='age',data=pos_df,color='blue')\n",
    "plt.xticks([0,10,20,30,40,50,60,70,80,90,100])\n",
    "plt.title(\"Distribution of Positive Class Based on Age\",{'fontsize':20});"
   ]
  },
  {
   "cell_type": "code",
   "execution_count": 53,
   "id": "b1d9b9b4",
   "metadata": {},
   "outputs": [
    {
     "data": {
      "image/png": "[encoded data removed]",
      "text/plain": [
       "<Figure size 500x500 with 1 Axes>"
      ]
     },
     "metadata": {},
     "output_type": "display_data"
    }
   ],
   "source": [
    "plt.figure(figsize=(5,5))\n",
    "plt.pie(x=pos_df.sex.value_counts(),\n",
    "        labels=['Female','Male'],\n",
    "        startangle = 90,\n",
    "        colors=['springgreen','orange'],\n",
    "        autopct='%.2f'\n",
    "       );\n",
    "plt.legend();"
   ]
  },
  {
   "cell_type": "markdown",
   "id": "e6640472",
   "metadata": {},
   "source": [
    "## Inference\n",
    "Female patients who has disease is greater than male patients."
   ]
  },
  {
   "cell_type": "code",
   "execution_count": 54,
   "id": "942d33e5",
   "metadata": {},
   "outputs": [
    {
     "data": {
      "image/png": "[encoded data removed]",
      "text/plain": [
       "<Figure size 500x500 with 1 Axes>"
      ]
     },
     "metadata": {},
     "output_type": "display_data"
    }
   ],
   "source": [
    "plt.figure(figsize=(5,5))\n",
    "plt.pie(x=pos_df.sick.value_counts(),\n",
    "        labels=['Sick','Well'],\n",
    "        startangle = 20,\n",
    "        colors=['deepskyblue','red'],\n",
    "        autopct='%.2f',\n",
    "        explode=[0,0.2]\n",
    "       );\n",
    "plt.legend();"
   ]
  },
  {
   "cell_type": "markdown",
   "id": "12508703",
   "metadata": {},
   "source": [
    "## Splitting Data"
   ]
  },
  {
   "cell_type": "code",
   "execution_count": 55,
   "id": "f1757232",
   "metadata": {},
   "outputs": [],
   "source": [
    "X = df.drop('Label',axis=1)\n",
    "y = df.Label"
   ]
  },
  {
   "cell_type": "markdown",
   "id": "9b0e5de1",
   "metadata": {},
   "source": [
    "## Transform non-numerical labels to numerical labels.\n",
    " Using Transformer"
   ]
  },
  {
   "cell_type": "code",
   "execution_count": 56,
   "id": "85bc4814",
   "metadata": {
    "scrolled": true
   },
   "outputs": [],
   "source": [
    "s_encoder = LabelEncoder()\n",
    "si_encoder = LabelEncoder()\n",
    "preg_encoder = LabelEncoder()\n",
    "th_encoder = LabelEncoder()\n",
    "treat_encoder = LabelEncoder()\n",
    "lith_encoder = LabelEncoder()\n",
    "g_encoder= LabelEncoder()\n",
    "tu_encoder = LabelEncoder()"
   ]
  },
  {
   "cell_type": "code",
   "execution_count": 57,
   "id": "433f57e9",
   "metadata": {},
   "outputs": [],
   "source": [
    "X['sex'] = s_encoder.fit_transform(X.sex)\n",
    "X['I131 treatment'] = treat_encoder.fit_transform(X['I131 treatment'])\n",
    "X['sick'] = si_encoder.fit_transform(X.sick)\n",
    "X['pregnant'] = preg_encoder.fit_transform(X.pregnant)\n",
    "X['thyroid surgery'] = th_encoder.fit_transform(X['thyroid surgery'])\n",
    "X['lithium'] = lith_encoder.fit_transform(X['lithium'])\n",
    "X['goitre'] = g_encoder.fit_transform(X['goitre'])\n",
    "X['tumor'] = tu_encoder.fit_transform(X['tumor'])"
   ]
  },
  {
   "cell_type": "code",
   "execution_count": 58,
   "id": "137ea02c",
   "metadata": {},
   "outputs": [],
   "source": [
    "def func(df):\n",
    "    if df == 'P':\n",
    "        return 1\n",
    "    else:\n",
    "        return 0\n",
    "y= y.apply(func)"
   ]
  },
  {
   "cell_type": "markdown",
   "id": "6479cf4c",
   "metadata": {},
   "source": [
    "## Splitting Data into Training and Test data\n",
    "use random_state function to get consistency in result of the dataset every time."
   ]
  },
  {
   "cell_type": "code",
   "execution_count": 59,
   "id": "70d6c298",
   "metadata": {},
   "outputs": [],
   "source": [
    "X_train,X_test,y_train,y_test = train_test_split(X,y,test_size=0.2,random_state=11)"
   ]
  },
  {
   "cell_type": "markdown",
   "id": "294768c9",
   "metadata": {},
   "source": [
    "## Handling Imbalanced Data"
   ]
  },
  {
   "cell_type": "code",
   "execution_count": 60,
   "id": "772be522",
   "metadata": {},
   "outputs": [],
   "source": [
    "smote = SMOTE(random_state=11)\n",
    "\n",
    "x_smote, y_smote = smote.fit_resample(X_train, y_train)"
   ]
  },
  {
   "cell_type": "code",
   "execution_count": 61,
   "id": "54d659b5",
   "metadata": {
    "scrolled": true
   },
   "outputs": [
    {
     "name": "stdout",
     "output_type": "stream",
     "text": [
      "Shape before the Oversampling :  (2896, 14)\n",
      "Shape after the Oversampling :  (5350, 14)\n"
     ]
    }
   ],
   "source": [
    "print(\"Shape before the Oversampling : \",X_train.shape)\n",
    "print(\"Shape after the Oversampling : \",x_smote.shape)"
   ]
  },
  {
   "cell_type": "markdown",
   "id": "240d4a03",
   "metadata": {},
   "source": [
    "## Normalization \n",
    "using MinMaxScaler function."
   ]
  },
  {
   "cell_type": "code",
   "execution_count": 62,
   "id": "514dc573",
   "metadata": {},
   "outputs": [],
   "source": [
    "scalr = MinMaxScaler()\n",
    "x_smote.TT4 = scalr.fit_transform(x_smote[['TT4']])\n",
    "x_smote.age = scalr.fit_transform(x_smote[['age']])\n",
    "x_smote.FTI = scalr.fit_transform(x_smote[['FTI']])"
   ]
  },
  {
   "cell_type": "code",
   "execution_count": 69,
   "id": "32a2bcba",
   "metadata": {},
   "outputs": [],
   "source": [
    "X_test.TT4 = scalr.fit_transform(X_test[['TT4']])\n",
    "X_test.age = scalr.fit_transform(X_test[['age']])\n",
    "X_test.FTI = scalr.fit_transform(X_test[['FTI']])"
   ]
  },
  {
   "cell_type": "markdown",
   "id": "f4467fad",
   "metadata": {},
   "source": [
    "## Model"
   ]
  },
  {
   "cell_type": "code",
   "execution_count": 89,
   "id": "54d0a96a",
   "metadata": {},
   "outputs": [],
   "source": [
    "Model = RandomForestClassifier()"
   ]
  },
  {
   "cell_type": "code",
   "execution_count": 90,
   "id": "f6d870cc",
   "metadata": {},
   "outputs": [
    {
     "data": {
      "text/html": [
       "<style>#sk-container-id-5 {color: black;background-color: white;}#sk-container-id-5 pre{padding: 0;}#sk-container-id-5 div.sk-toggleable {background-color: white;}#sk-container-id-5 label.sk-toggleable__label {cursor: pointer;display: block;width: 100%;margin-bottom: 0;padding: 0.3em;box-sizing: border-box;text-align: center;}#sk-container-id-5 label.sk-toggleable__label-arrow:before {content: \"▸\";float: left;margin-right: 0.25em;color: #696969;}#sk-container-id-5 label.sk-toggleable__label-arrow:hover:before {color: black;}#sk-container-id-5 div.sk-estimator:hover label.sk-toggleable__label-arrow:before {color: black;}#sk-container-id-5 div.sk-toggleable__content {max-height: 0;max-width: 0;overflow: hidden;text-align: left;background-color: #f0f8ff;}#sk-container-id-5 div.sk-toggleable__content pre {margin: 0.2em;color: black;border-radius: 0.25em;background-color: #f0f8ff;}#sk-container-id-5 input.sk-toggleable__control:checked~div.sk-toggleable__content {max-height: 200px;max-width: 100%;overflow: auto;}#sk-container-id-5 input.sk-toggleable__control:checked~label.sk-toggleable__label-arrow:before {content: \"▾\";}#sk-container-id-5 div.sk-estimator input.sk-toggleable__control:checked~label.sk-toggleable__label {background-color: #d4ebff;}#sk-container-id-5 div.sk-label input.sk-toggleable__control:checked~label.sk-toggleable__label {background-color: #d4ebff;}#sk-container-id-5 input.sk-hidden--visually {border: 0;clip: rect(1px 1px 1px 1px);clip: rect(1px, 1px, 1px, 1px);height: 1px;margin: -1px;overflow: hidden;padding: 0;position: absolute;width: 1px;}#sk-container-id-5 div.sk-estimator {font-family: monospace;background-color: #f0f8ff;border: 1px dotted black;border-radius: 0.25em;box-sizing: border-box;margin-bottom: 0.5em;}#sk-container-id-5 div.sk-estimator:hover {background-color: #d4ebff;}#sk-container-id-5 div.sk-parallel-item::after {content: \"\";width: 100%;border-bottom: 1px solid gray;flex-grow: 1;}#sk-container-id-5 div.sk-label:hover label.sk-toggleable__label {background-color: #d4ebff;}#sk-container-id-5 div.sk-serial::before {content: \"\";position: absolute;border-left: 1px solid gray;box-sizing: border-box;top: 0;bottom: 0;left: 50%;z-index: 0;}#sk-container-id-5 div.sk-serial {display: flex;flex-direction: column;align-items: center;background-color: white;padding-right: 0.2em;padding-left: 0.2em;position: relative;}#sk-container-id-5 div.sk-item {position: relative;z-index: 1;}#sk-container-id-5 div.sk-parallel {display: flex;align-items: stretch;justify-content: center;background-color: white;position: relative;}#sk-container-id-5 div.sk-item::before, #sk-container-id-5 div.sk-parallel-item::before {content: \"\";position: absolute;border-left: 1px solid gray;box-sizing: border-box;top: 0;bottom: 0;left: 50%;z-index: -1;}#sk-container-id-5 div.sk-parallel-item {display: flex;flex-direction: column;z-index: 1;position: relative;background-color: white;}#sk-container-id-5 div.sk-parallel-item:first-child::after {align-self: flex-end;width: 50%;}#sk-container-id-5 div.sk-parallel-item:last-child::after {align-self: flex-start;width: 50%;}#sk-container-id-5 div.sk-parallel-item:only-child::after {width: 0;}#sk-container-id-5 div.sk-dashed-wrapped {border: 1px dashed gray;margin: 0 0.4em 0.5em 0.4em;box-sizing: border-box;padding-bottom: 0.4em;background-color: white;}#sk-container-id-5 div.sk-label label {font-family: monospace;font-weight: bold;display: inline-block;line-height: 1.2em;}#sk-container-id-5 div.sk-label-container {text-align: center;}#sk-container-id-5 div.sk-container {/* jupyter's `normalize.less` sets `[hidden] { display: none; }` but bootstrap.min.css set `[hidden] { display: none !important; }` so we also need the `!important` here to be able to override the default hidden behavior on the sphinx rendered scikit-learn.org. See: https://github.com/scikit-learn/scikit-learn/issues/21755 */display: inline-block !important;position: relative;}#sk-container-id-5 div.sk-text-repr-fallback {display: none;}</style><div id=\"sk-container-id-5\" class=\"sk-top-container\"><div class=\"sk-text-repr-fallback\"><pre>RandomForestClassifier()</pre><b>In a Jupyter environment, please rerun this cell to show the HTML representation or trust the notebook. <br />On GitHub, the HTML representation is unable to render, please try loading this page with nbviewer.org.</b></div><div class=\"sk-container\" hidden><div class=\"sk-item\"><div class=\"sk-estimator sk-toggleable\"><input class=\"sk-toggleable__control sk-hidden--visually\" id=\"sk-estimator-id-5\" type=\"checkbox\" checked><label for=\"sk-estimator-id-5\" class=\"sk-toggleable__label sk-toggleable__label-arrow\">RandomForestClassifier</label><div class=\"sk-toggleable__content\"><pre>RandomForestClassifier()</pre></div></div></div></div></div>"
      ],
      "text/plain": [
       "RandomForestClassifier()"
      ]
     },
     "execution_count": 90,
     "metadata": {},
     "output_type": "execute_result"
    }
   ],
   "source": [
    "Model.fit(x_smote,y_smote)"
   ]
  },
  {
   "cell_type": "code",
   "execution_count": 96,
   "id": "a83ffd0c",
   "metadata": {},
   "outputs": [
    {
     "name": "stdout",
     "output_type": "stream",
     "text": [
      "Accuracy Score is :  88 %\n"
     ]
    }
   ],
   "source": [
    "Score = Model.score(X_test,y_test)\n",
    "print(f\"Accuracy Score is : \",int(Score*100),\"%\")"
   ]
  },
  {
   "cell_type": "markdown",
   "id": "24baa710",
   "metadata": {},
   "source": [
    "## Classification Report for the Model"
   ]
  },
  {
   "cell_type": "code",
   "execution_count": 101,
   "id": "2b90e820",
   "metadata": {},
   "outputs": [
    {
     "name": "stdout",
     "output_type": "stream",
     "text": [
      "Classification Report for Random Forest Classifier\n",
      "-------------------------------------------------------\n",
      "              precision    recall  f1-score   support\n",
      "\n",
      "           0       0.09      0.05      0.07        59\n",
      "           1       0.92      0.95      0.94       666\n",
      "\n",
      "    accuracy                           0.88       725\n",
      "   macro avg       0.50      0.50      0.50       725\n",
      "weighted avg       0.85      0.88      0.87       725\n",
      "\n"
     ]
    }
   ],
   "source": [
    "y_pred = Model.predict(X_test)\n",
    "print(\"Classification Report for Random Forest Classifier\")\n",
    "print(\"-------------------------------------------------------\")\n",
    "print(classification_report(y_test,y_pred))"
   ]
  },
  {
   "cell_type": "code",
   "execution_count": 106,
   "id": "cc83d90c",
   "metadata": {},
   "outputs": [
    {
     "data": {
      "text/plain": [
       "0.8662068965517241"
      ]
     },
     "execution_count": 106,
     "metadata": {},
     "output_type": "execute_result"
    }
   ],
   "source": [
    "rf = RandomForestClassifier()\n",
    "rf_1 =rf.fit(x_smote,y_smote)\n",
    "rf_1.score(X_test,y_test)"
   ]
  },
  {
   "cell_type": "code",
   "execution_count": 104,
   "id": "bd543e7a",
   "metadata": {},
   "outputs": [
    {
     "data": {
      "image/png": "[encoded data removed]",
      "text/plain": [
       "<Figure size 900x700 with 1 Axes>"
      ]
     },
     "metadata": {},
     "output_type": "display_data"
    }
   ],
   "source": [
    "plt.figure(figsize=(9,7))\n",
    "feature_imp1 = rf.feature_importances_\n",
    "sns.barplot(x=feature_imp1, y=X.columns)\n",
    "plt.xlabel('Feature Importance Score')\n",
    "plt.ylabel('Features')\n",
    "plt.title(\"Visualizing Important Features For Random Forest \",{'fontsize':15})\n",
    "plt.show();"
   ]
  }
 ],
 "metadata": {
  "kernelspec": {
   "display_name": "Python 3 (ipykernel)",
   "language": "python",
   "name": "python3"
  },
  "language_info": {
   "codemirror_mode": {
    "name": "ipython",
    "version": 3
   },
   "file_extension": ".py",
   "mimetype": "text/x-python",
   "name": "python",
   "nbconvert_exporter": "python",
   "pygments_lexer": "ipython3",
   "version": "3.10.9"
  }
 },
 "nbformat": 4,
 "nbformat_minor": 5
}
